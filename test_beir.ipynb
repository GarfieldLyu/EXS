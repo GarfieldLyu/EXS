{
 "cells": [
  {
   "cell_type": "code",
   "execution_count": 1,
   "metadata": {},
   "outputs": [
    {
     "name": "stderr",
     "output_type": "stream",
     "text": [
      "/home/lyu/anaconda3/envs/lijun/lib/python3.8/site-packages/beir/util.py:2: TqdmExperimentalWarning: Using `tqdm.autonotebook.tqdm` in notebook mode. Use `tqdm.tqdm` instead to force console mode (e.g. in jupyter console)\n",
      "  from tqdm.autonotebook import tqdm\n"
     ]
    }
   ],
   "source": [
    "import json\n",
    "from beir import util, LoggingHandler\n",
    "from beir.retrieval import models\n",
    "from beir.datasets.data_loader import GenericDataLoader\n",
    "from beir.retrieval.evaluation import EvaluateRetrieval\n",
    "from beir.retrieval.search.dense import DenseRetrievalExactSearch as DRES\n",
    "import logging\n",
    "import pathlib, os\n",
    "\n",
    "#### Just some code to print debug information to stdout\n",
    "logging.basicConfig(format='%(asctime)s - %(message)s',\n",
    "                    datefmt='%Y-%m-%d %H:%M:%S',\n",
    "                    level=logging.INFO,\n",
    "                    handlers=[LoggingHandler()])"
   ]
  },
  {
   "cell_type": "code",
   "execution_count": 3,
   "metadata": {},
   "outputs": [
    {
     "name": "stdout",
     "output_type": "stream",
     "text": [
      "2022-08-22 08:55:25 - Downloading scifact.zip ...\n"
     ]
    },
    {
     "data": {
      "application/vnd.jupyter.widget-view+json": {
       "model_id": "db2d6d618f094015bd78ec9255bc5833",
       "version_major": 2,
       "version_minor": 0
      },
      "text/plain": [
       "/storage/home/lyu/datasets/scifact.zip:   0%|          | 0.00/2.69M [00:00<?, ?iB/s]"
      ]
     },
     "metadata": {},
     "output_type": "display_data"
    },
    {
     "name": "stdout",
     "output_type": "stream",
     "text": [
      "2022-08-22 08:55:25 - Unzipping scifact.zip ...\n"
     ]
    }
   ],
   "source": [
    "dataset = \"scifact\"\n",
    "url = \"https://public.ukp.informatik.tu-darmstadt.de/thakur/BEIR/datasets/{}.zip\".format(dataset)\n",
    "out_dir = os.path.join(pathlib.Path(os.getcwd()).parent.absolute(), \"datasets\")\n",
    "data_path = util.download_and_unzip(url, out_dir)"
   ]
  },
  {
   "cell_type": "code",
   "execution_count": 4,
   "metadata": {},
   "outputs": [
    {
     "name": "stdout",
     "output_type": "stream",
     "text": [
      "2022-08-22 08:56:48 - Loading Corpus...\n"
     ]
    },
    {
     "data": {
      "application/vnd.jupyter.widget-view+json": {
       "model_id": "5bc4e2cb7959461db7212713c619a785",
       "version_major": 2,
       "version_minor": 0
      },
      "text/plain": [
       "  0%|          | 0/5183 [00:00<?, ?it/s]"
      ]
     },
     "metadata": {},
     "output_type": "display_data"
    },
    {
     "name": "stdout",
     "output_type": "stream",
     "text": [
      "2022-08-22 08:56:49 - Loaded 5183 TEST Documents.\n",
      "2022-08-22 08:56:49 - Doc Example: {'text': 'Alterations of the architecture of cerebral white matter in the developing human brain can affect cortical development and result in functional disabilities. A line scan diffusion-weighted magnetic resonance imaging (MRI) sequence with diffusion tensor analysis was applied to measure the apparent diffusion coefficient, to calculate relative anisotropy, and to delineate three-dimensional fiber architecture in cerebral white matter in preterm (n = 17) and full-term infants (n = 7). To assess effects of prematurity on cerebral white matter development, early gestation preterm infants (n = 10) were studied a second time at term. In the central white matter the mean apparent diffusion coefficient at 28 wk was high, 1.8 microm2/ms, and decreased toward term to 1.2 microm2/ms. In the posterior limb of the internal capsule, the mean apparent diffusion coefficients at both times were similar (1.2 versus 1.1 microm2/ms). Relative anisotropy was higher the closer birth was to term with greater absolute values in the internal capsule than in the central white matter. Preterm infants at term showed higher mean diffusion coefficients in the central white matter (1.4 +/- 0.24 versus 1.15 +/- 0.09 microm2/ms, p = 0.016) and lower relative anisotropy in both areas compared with full-term infants (white matter, 10.9 +/- 0.6 versus 22.9 +/- 3.0%, p = 0.001; internal capsule, 24.0 +/- 4.44 versus 33.1 +/- 0.6% p = 0.006). Nonmyelinated fibers in the corpus callosum were visible by diffusion tensor MRI as early as 28 wk; full-term and preterm infants at term showed marked differences in white matter fiber organization. The data indicate that quantitative assessment of water diffusion by diffusion tensor MRI provides insight into microstructural development in cerebral white matter in living infants.', 'title': 'Microstructural development of human newborn cerebral white matter assessed in vivo by diffusion tensor magnetic resonance imaging.'}\n",
      "2022-08-22 08:56:49 - Loading Queries...\n",
      "2022-08-22 08:56:49 - Loaded 300 TEST Queries.\n",
      "2022-08-22 08:56:49 - Query Example: 0-dimensional biomaterials show inductive properties.\n",
      "2022-08-22 08:56:49 - Load pretrained SentenceTransformer: msmarco-distilbert-base-tas-b\n",
      "2022-08-22 08:56:49 - Lock 140376686644192 acquired on /home/lyu/.cache/torch/sentence_transformers/sentence-transformers_msmarco-distilbert-base-tas-b/.gitattributes.lock\n"
     ]
    },
    {
     "data": {
      "application/vnd.jupyter.widget-view+json": {
       "model_id": "ecc6e405fe5444498d0b490d8cff1f87",
       "version_major": 2,
       "version_minor": 0
      },
      "text/plain": [
       "Downloading:   0%|          | 0.00/690 [00:00<?, ?B/s]"
      ]
     },
     "metadata": {},
     "output_type": "display_data"
    },
    {
     "name": "stdout",
     "output_type": "stream",
     "text": [
      "2022-08-22 08:56:50 - Lock 140376686644192 released on /home/lyu/.cache/torch/sentence_transformers/sentence-transformers_msmarco-distilbert-base-tas-b/.gitattributes.lock\n",
      "2022-08-22 08:56:50 - Lock 140381006569184 acquired on /home/lyu/.cache/torch/sentence_transformers/sentence-transformers_msmarco-distilbert-base-tas-b/1_Pooling/config.json.lock\n"
     ]
    },
    {
     "data": {
      "application/vnd.jupyter.widget-view+json": {
       "model_id": "4043668822764f86bc9db9cedb3e95f5",
       "version_major": 2,
       "version_minor": 0
      },
      "text/plain": [
       "Downloading:   0%|          | 0.00/190 [00:00<?, ?B/s]"
      ]
     },
     "metadata": {},
     "output_type": "display_data"
    },
    {
     "name": "stdout",
     "output_type": "stream",
     "text": [
      "2022-08-22 08:56:51 - Lock 140381006569184 released on /home/lyu/.cache/torch/sentence_transformers/sentence-transformers_msmarco-distilbert-base-tas-b/1_Pooling/config.json.lock\n",
      "2022-08-22 08:56:51 - Lock 140376686642560 acquired on /home/lyu/.cache/torch/sentence_transformers/sentence-transformers_msmarco-distilbert-base-tas-b/README.md.lock\n"
     ]
    },
    {
     "data": {
      "application/vnd.jupyter.widget-view+json": {
       "model_id": "d617e5fef6644c51a75e4cd2a8ba7da6",
       "version_major": 2,
       "version_minor": 0
      },
      "text/plain": [
       "Downloading:   0%|          | 0.00/3.99k [00:00<?, ?B/s]"
      ]
     },
     "metadata": {},
     "output_type": "display_data"
    },
    {
     "name": "stdout",
     "output_type": "stream",
     "text": [
      "2022-08-22 08:56:52 - Lock 140376686642560 released on /home/lyu/.cache/torch/sentence_transformers/sentence-transformers_msmarco-distilbert-base-tas-b/README.md.lock\n",
      "2022-08-22 08:56:52 - Lock 140376677865648 acquired on /home/lyu/.cache/torch/sentence_transformers/sentence-transformers_msmarco-distilbert-base-tas-b/config.json.lock\n"
     ]
    },
    {
     "data": {
      "application/vnd.jupyter.widget-view+json": {
       "model_id": "210fed18766648f59235905bea1c7a4c",
       "version_major": 2,
       "version_minor": 0
      },
      "text/plain": [
       "Downloading:   0%|          | 0.00/548 [00:00<?, ?B/s]"
      ]
     },
     "metadata": {},
     "output_type": "display_data"
    },
    {
     "name": "stdout",
     "output_type": "stream",
     "text": [
      "2022-08-22 08:56:53 - Lock 140376677865648 released on /home/lyu/.cache/torch/sentence_transformers/sentence-transformers_msmarco-distilbert-base-tas-b/config.json.lock\n",
      "2022-08-22 08:56:53 - Lock 140376686644192 acquired on /home/lyu/.cache/torch/sentence_transformers/sentence-transformers_msmarco-distilbert-base-tas-b/config_sentence_transformers.json.lock\n"
     ]
    },
    {
     "data": {
      "application/vnd.jupyter.widget-view+json": {
       "model_id": "8da3d5cc3cf84c4d994828cae78e9548",
       "version_major": 2,
       "version_minor": 0
      },
      "text/plain": [
       "Downloading:   0%|          | 0.00/122 [00:00<?, ?B/s]"
      ]
     },
     "metadata": {},
     "output_type": "display_data"
    },
    {
     "name": "stdout",
     "output_type": "stream",
     "text": [
      "2022-08-22 08:56:54 - Lock 140376686644192 released on /home/lyu/.cache/torch/sentence_transformers/sentence-transformers_msmarco-distilbert-base-tas-b/config_sentence_transformers.json.lock\n",
      "2022-08-22 08:56:54 - Lock 140376675263584 acquired on /home/lyu/.cache/torch/sentence_transformers/sentence-transformers_msmarco-distilbert-base-tas-b/pytorch_model.bin.lock\n"
     ]
    },
    {
     "data": {
      "application/vnd.jupyter.widget-view+json": {
       "model_id": "6f4831e3e73a4a7194c21b61d39ea882",
       "version_major": 2,
       "version_minor": 0
      },
      "text/plain": [
       "Downloading:   0%|          | 0.00/265M [00:00<?, ?B/s]"
      ]
     },
     "metadata": {},
     "output_type": "display_data"
    },
    {
     "name": "stdout",
     "output_type": "stream",
     "text": [
      "2022-08-22 08:57:03 - Lock 140376675263584 released on /home/lyu/.cache/torch/sentence_transformers/sentence-transformers_msmarco-distilbert-base-tas-b/pytorch_model.bin.lock\n",
      "2022-08-22 08:57:03 - Lock 140376686643184 acquired on /home/lyu/.cache/torch/sentence_transformers/sentence-transformers_msmarco-distilbert-base-tas-b/sentence_bert_config.json.lock\n"
     ]
    },
    {
     "data": {
      "application/vnd.jupyter.widget-view+json": {
       "model_id": "257d7eea669a488eab2ed952713e2f60",
       "version_major": 2,
       "version_minor": 0
      },
      "text/plain": [
       "Downloading:   0%|          | 0.00/53.0 [00:00<?, ?B/s]"
      ]
     },
     "metadata": {},
     "output_type": "display_data"
    },
    {
     "name": "stdout",
     "output_type": "stream",
     "text": [
      "2022-08-22 08:57:04 - Lock 140376686643184 released on /home/lyu/.cache/torch/sentence_transformers/sentence-transformers_msmarco-distilbert-base-tas-b/sentence_bert_config.json.lock\n",
      "2022-08-22 08:57:04 - Lock 140376677864784 acquired on /home/lyu/.cache/torch/sentence_transformers/sentence-transformers_msmarco-distilbert-base-tas-b/special_tokens_map.json.lock\n"
     ]
    },
    {
     "data": {
      "application/vnd.jupyter.widget-view+json": {
       "model_id": "2844bfe8c3374d1886e76b9618f11895",
       "version_major": 2,
       "version_minor": 0
      },
      "text/plain": [
       "Downloading:   0%|          | 0.00/112 [00:00<?, ?B/s]"
      ]
     },
     "metadata": {},
     "output_type": "display_data"
    },
    {
     "name": "stdout",
     "output_type": "stream",
     "text": [
      "2022-08-22 08:57:05 - Lock 140376677864784 released on /home/lyu/.cache/torch/sentence_transformers/sentence-transformers_msmarco-distilbert-base-tas-b/special_tokens_map.json.lock\n",
      "2022-08-22 08:57:05 - Lock 140376675141424 acquired on /home/lyu/.cache/torch/sentence_transformers/sentence-transformers_msmarco-distilbert-base-tas-b/tokenizer.json.lock\n"
     ]
    },
    {
     "data": {
      "application/vnd.jupyter.widget-view+json": {
       "model_id": "e99c4cb26b8648d6a1fc6edadb4e56de",
       "version_major": 2,
       "version_minor": 0
      },
      "text/plain": [
       "Downloading:   0%|          | 0.00/466k [00:00<?, ?B/s]"
      ]
     },
     "metadata": {},
     "output_type": "display_data"
    },
    {
     "name": "stdout",
     "output_type": "stream",
     "text": [
      "2022-08-22 08:57:06 - Lock 140376675141424 released on /home/lyu/.cache/torch/sentence_transformers/sentence-transformers_msmarco-distilbert-base-tas-b/tokenizer.json.lock\n",
      "2022-08-22 08:57:07 - Lock 140376686642560 acquired on /home/lyu/.cache/torch/sentence_transformers/sentence-transformers_msmarco-distilbert-base-tas-b/tokenizer_config.json.lock\n"
     ]
    },
    {
     "data": {
      "application/vnd.jupyter.widget-view+json": {
       "model_id": "05e7c10eba294c89b623c0a0dd966b70",
       "version_major": 2,
       "version_minor": 0
      },
      "text/plain": [
       "Downloading:   0%|          | 0.00/547 [00:00<?, ?B/s]"
      ]
     },
     "metadata": {},
     "output_type": "display_data"
    },
    {
     "name": "stdout",
     "output_type": "stream",
     "text": [
      "2022-08-22 08:57:07 - Lock 140376686642560 released on /home/lyu/.cache/torch/sentence_transformers/sentence-transformers_msmarco-distilbert-base-tas-b/tokenizer_config.json.lock\n",
      "2022-08-22 08:57:07 - Lock 140376686643184 acquired on /home/lyu/.cache/torch/sentence_transformers/sentence-transformers_msmarco-distilbert-base-tas-b/vocab.txt.lock\n"
     ]
    },
    {
     "data": {
      "application/vnd.jupyter.widget-view+json": {
       "model_id": "e0861194c89947f7a1f583cb5221b2e7",
       "version_major": 2,
       "version_minor": 0
      },
      "text/plain": [
       "Downloading:   0%|          | 0.00/232k [00:00<?, ?B/s]"
      ]
     },
     "metadata": {},
     "output_type": "display_data"
    },
    {
     "name": "stdout",
     "output_type": "stream",
     "text": [
      "2022-08-22 08:57:08 - Lock 140376686643184 released on /home/lyu/.cache/torch/sentence_transformers/sentence-transformers_msmarco-distilbert-base-tas-b/vocab.txt.lock\n",
      "2022-08-22 08:57:09 - Lock 140376686644192 acquired on /home/lyu/.cache/torch/sentence_transformers/sentence-transformers_msmarco-distilbert-base-tas-b/modules.json.lock\n"
     ]
    },
    {
     "data": {
      "application/vnd.jupyter.widget-view+json": {
       "model_id": "87515075e0b749c4be86de61958440bd",
       "version_major": 2,
       "version_minor": 0
      },
      "text/plain": [
       "Downloading:   0%|          | 0.00/229 [00:00<?, ?B/s]"
      ]
     },
     "metadata": {},
     "output_type": "display_data"
    },
    {
     "name": "stdout",
     "output_type": "stream",
     "text": [
      "2022-08-22 08:57:09 - Lock 140376686644192 released on /home/lyu/.cache/torch/sentence_transformers/sentence-transformers_msmarco-distilbert-base-tas-b/modules.json.lock\n",
      "2022-08-22 08:57:13 - Use pytorch device: cpu\n",
      "2022-08-22 08:57:13 - Encoding Queries...\n"
     ]
    },
    {
     "name": "stderr",
     "output_type": "stream",
     "text": [
      "/home/lyu/anaconda3/envs/lijun/lib/python3.8/site-packages/torch/cuda/__init__.py:52: UserWarning: CUDA initialization: The NVIDIA driver on your system is too old (found version 9010). Please update your GPU driver by downloading and installing a new version from the URL: http://www.nvidia.com/Download/index.aspx Alternatively, go to: https://pytorch.org to install a PyTorch version that has been compiled with your version of the CUDA driver. (Triggered internally at  /opt/conda/conda-bld/pytorch_1603729009598/work/c10/cuda/CUDAFunctions.cpp:100.)\n",
      "  return torch._C._cuda_getDeviceCount() > 0\n"
     ]
    },
    {
     "data": {
      "application/vnd.jupyter.widget-view+json": {
       "model_id": "edda2ca7556e404a9fd6e728bbffb20f",
       "version_major": 2,
       "version_minor": 0
      },
      "text/plain": [
       "Batches:   0%|          | 0/19 [00:00<?, ?it/s]"
      ]
     },
     "metadata": {},
     "output_type": "display_data"
    },
    {
     "name": "stdout",
     "output_type": "stream",
     "text": [
      "2022-08-22 08:57:17 - Sorting Corpus by document length (Longest first)...\n",
      "2022-08-22 08:57:17 - Encoding Corpus in batches... Warning: This might take a while!\n",
      "2022-08-22 08:57:17 - Scoring Function: Dot Product (dot)\n",
      "2022-08-22 08:57:17 - Encoding Batch 1/1...\n"
     ]
    },
    {
     "data": {
      "application/vnd.jupyter.widget-view+json": {
       "model_id": "dc159c4bf69b40b9a566218e82d4694f",
       "version_major": 2,
       "version_minor": 0
      },
      "text/plain": [
       "Batches:   0%|          | 0/324 [00:00<?, ?it/s]"
      ]
     },
     "metadata": {},
     "output_type": "display_data"
    },
    {
     "name": "stdout",
     "output_type": "stream",
     "text": [
      "2022-08-22 09:07:32 - For evaluation, we ignore identical query and document ids (default), please explicitly set ``ignore_identical_ids=False`` to ignore this.\n",
      "2022-08-22 09:07:32 - \n",
      "\n",
      "2022-08-22 09:07:32 - NDCG@1: 0.5333\n",
      "2022-08-22 09:07:32 - NDCG@3: 0.5990\n",
      "2022-08-22 09:07:32 - NDCG@5: 0.6215\n",
      "2022-08-22 09:07:32 - NDCG@10: 0.6428\n",
      "2022-08-22 09:07:32 - NDCG@100: 0.6698\n",
      "2022-08-22 09:07:32 - NDCG@1000: 0.6811\n",
      "2022-08-22 09:07:32 - \n",
      "\n",
      "2022-08-22 09:07:32 - MAP@1: 0.5086\n",
      "2022-08-22 09:07:32 - MAP@3: 0.5730\n",
      "2022-08-22 09:07:32 - MAP@5: 0.5892\n",
      "2022-08-22 09:07:32 - MAP@10: 0.5992\n",
      "2022-08-22 09:07:32 - MAP@100: 0.6046\n",
      "2022-08-22 09:07:32 - MAP@1000: 0.6049\n",
      "2022-08-22 09:07:32 - \n",
      "\n",
      "2022-08-22 09:07:32 - Recall@1: 0.5086\n",
      "2022-08-22 09:07:32 - Recall@3: 0.6473\n",
      "2022-08-22 09:07:32 - Recall@5: 0.6998\n",
      "2022-08-22 09:07:32 - Recall@10: 0.7615\n",
      "2022-08-22 09:07:32 - Recall@100: 0.8910\n",
      "2022-08-22 09:07:32 - Recall@1000: 0.9833\n",
      "2022-08-22 09:07:32 - \n",
      "\n",
      "2022-08-22 09:07:32 - P@1: 0.5333\n",
      "2022-08-22 09:07:32 - P@3: 0.2322\n",
      "2022-08-22 09:07:32 - P@5: 0.1560\n",
      "2022-08-22 09:07:32 - P@10: 0.0863\n",
      "2022-08-22 09:07:32 - P@100: 0.0101\n",
      "2022-08-22 09:07:32 - P@1000: 0.0011\n"
     ]
    }
   ],
   "source": [
    "#### Provide the data_path where scifact has been downloaded and unzipped\n",
    "corpus, queries, qrels = GenericDataLoader(data_folder=data_path).load(split=\"test\")\n",
    "\n",
    "#### Load the SBERT model and retrieve using cosine-similarity\n",
    "model = DRES(models.SentenceBERT(\"msmarco-distilbert-base-tas-b\"), batch_size=16)\n",
    "retriever = EvaluateRetrieval(model, score_function=\"dot\") # or \"cos_sim\" for cosine similarity\n",
    "results = retriever.retrieve(corpus, queries)\n",
    "\n",
    "#### Evaluate your model with NDCG@k, MAP@K, Recall@K and Precision@K  where k = [1,3,5,10,100,1000] \n",
    "ndcg, _map, recall, precision = retriever.evaluate(qrels, results, retriever.k_values)"
   ]
  },
  {
   "cell_type": "code",
   "execution_count": 3,
   "metadata": {},
   "outputs": [],
   "source": [
    "import random\n",
    "from sklearn.utils import check_random_state"
   ]
  },
  {
   "cell_type": "code",
   "execution_count": 9,
   "metadata": {},
   "outputs": [
    {
     "data": {
      "text/plain": [
       "array([5, 1, 2, 1, 2, 9, 1, 9, 7, 5, 4, 1, 5, 7, 9, 2, 9, 5, 2, 4])"
      ]
     },
     "execution_count": 9,
     "metadata": {},
     "output_type": "execute_result"
    }
   ],
   "source": [
    "random_state = check_random_state(10)\n",
    "random_state.randint(1, 10, 20)"
   ]
  },
  {
   "cell_type": "code",
   "execution_count": 11,
   "metadata": {},
   "outputs": [
    {
     "data": {
      "text/plain": [
       "20"
      ]
     },
     "execution_count": 11,
     "metadata": {},
     "output_type": "execute_result"
    }
   ],
   "source": [
    "random_state.randint(1, 10, 20).size"
   ]
  },
  {
   "cell_type": "code",
   "execution_count": 12,
   "metadata": {},
   "outputs": [],
   "source": [
    "import nltk"
   ]
  },
  {
   "cell_type": "code",
   "execution_count": 20,
   "metadata": {},
   "outputs": [
    {
     "data": {
      "text/plain": [
       "\"'m lijun\""
      ]
     },
     "execution_count": 20,
     "metadata": {},
     "output_type": "execute_result"
    }
   ],
   "source": [
    "import numpy as np\n",
    "' '.join(np.array(nltk.word_tokenize(\"hello I'm lijun. \"))[[2,3]])"
   ]
  },
  {
   "cell_type": "code",
   "execution_count": 18,
   "metadata": {},
   "outputs": [
    {
     "data": {
      "text/plain": [
       "array([1])"
      ]
     },
     "execution_count": 18,
     "metadata": {},
     "output_type": "execute_result"
    }
   ],
   "source": [
    "random_state.choice(10, 1, replace=False)"
   ]
  },
  {
   "cell_type": "code",
   "execution_count": 3,
   "metadata": {},
   "outputs": [
    {
     "data": {
      "text/plain": [
       "[0, 0, 0, 0, 1]"
      ]
     },
     "execution_count": 3,
     "metadata": {},
     "output_type": "execute_result"
    }
   ],
   "source": [
    "a = [1 if i>3 else 0 for i in range(5) ]\n",
    "a"
   ]
  },
  {
   "cell_type": "code",
   "execution_count": 4,
   "metadata": {},
   "outputs": [],
   "source": [
    "import numpy as np\n"
   ]
  },
  {
   "cell_type": "code",
   "execution_count": 6,
   "metadata": {},
   "outputs": [
    {
     "data": {
      "text/plain": [
       "array([ 1.,  1.,  1.,  1.,  0., -1.])"
      ]
     },
     "execution_count": 6,
     "metadata": {},
     "output_type": "execute_result"
    }
   ],
   "source": [
    "np.sign([1, 2,3, 0.5, 0, -5])"
   ]
  },
  {
   "cell_type": "code",
   "execution_count": 17,
   "metadata": {},
   "outputs": [],
   "source": [
    "categories = ['alt.atheism', 'soc.religion.christian',\n",
    "              'comp.graphics', 'sci.med']\n",
    "from sklearn.datasets import fetch_20newsgroups\n",
    "twenty_train = fetch_20newsgroups(subset='train',\n",
    "    categories=categories, shuffle=True, random_state=42)"
   ]
  },
  {
   "cell_type": "code",
   "execution_count": 7,
   "metadata": {},
   "outputs": [],
   "source": [
    "from sklearn.pipeline import Pipeline\n",
    "from sklearn.feature_extraction.text import CountVectorizer\n",
    "from sklearn.feature_extraction.text import TfidfTransformer\n",
    "\n",
    "\n",
    "from sklearn.linear_model import LogisticRegression, SGDClassifier\n",
    "clf = Pipeline([('vect', CountVectorizer()),\n",
    "                        ('tfidf', TfidfTransformer()),\n",
    "                        ('clf', SGDClassifier())])"
   ]
  },
  {
   "cell_type": "code",
   "execution_count": 18,
   "metadata": {},
   "outputs": [
    {
     "data": {
      "text/plain": [
       "Pipeline(steps=[('vect', CountVectorizer()), ('tfidf', TfidfTransformer()),\n",
       "                ('clf', SGDClassifier())])"
      ]
     },
     "execution_count": 18,
     "metadata": {},
     "output_type": "execute_result"
    }
   ],
   "source": [
    "clf.fit(twenty_train.data, twenty_train.target)"
   ]
  },
  {
   "cell_type": "code",
   "execution_count": 56,
   "metadata": {},
   "outputs": [
    {
     "data": {
      "text/plain": [
       "'From: sd345@city.ac.uk (Michael Collier)\\nSubject: Converting images to HP LaserJet III?\\nNntp-Posting-Host: hampton\\nOrganization: The City University\\nLines: 14\\n\\nDoes anyone know of a good way (standard PC application/PD utility) to\\nconvert tif/img/tga files into LaserJet III format.  We would also like to\\ndo the same, converting to HPGL (HP plotter) files.\\n\\nPlease email any response.\\n\\nIs this the correct group?\\n\\nThanks in advance.  Michael.\\n-- \\nMichael Collier (Programmer)                 The Computer Unit,\\nEmail: M.P.Collier@uk.ac.city                The City University,\\nTel: 071 477-8000 x3769                      London,\\nFax: 071 477-8565                            EC1V 0HB.\\n'"
      ]
     },
     "execution_count": 56,
     "metadata": {},
     "output_type": "execute_result"
    }
   ],
   "source": [
    "twenty_train.data[0]"
   ]
  },
  {
   "cell_type": "code",
   "execution_count": 60,
   "metadata": {},
   "outputs": [
    {
     "data": {
      "text/plain": [
       "35788"
      ]
     },
     "execution_count": 60,
     "metadata": {},
     "output_type": "execute_result"
    }
   ],
   "source": [
    "len(clf['vect'].get_feature_names())"
   ]
  },
  {
   "cell_type": "code",
   "execution_count": 23,
   "metadata": {},
   "outputs": [],
   "source": [
    "import matplotlib.pyplot as plt"
   ]
  },
  {
   "cell_type": "code",
   "execution_count": 61,
   "metadata": {},
   "outputs": [
    {
     "data": {
      "text/plain": [
       "(4, 35788)"
      ]
     },
     "execution_count": 61,
     "metadata": {},
     "output_type": "execute_result"
    }
   ],
   "source": [
    "coef = clf['clf'].coef_.copy()\n",
    "coef.shape"
   ]
  },
  {
   "cell_type": "code",
   "execution_count": 33,
   "metadata": {},
   "outputs": [
    {
     "data": {
      "text/plain": [
       "array([0, 1, 0, 0, 0, 0, 0, 0, 1, 0])"
      ]
     },
     "execution_count": 33,
     "metadata": {},
     "output_type": "execute_result"
    }
   ],
   "source": [
    "(coef[0][:10] > 0).astype(int)"
   ]
  },
  {
   "cell_type": "code",
   "execution_count": 64,
   "metadata": {},
   "outputs": [],
   "source": [
    "vocab = clf['vect'].get_feature_names()[:20]\n"
   ]
  },
  {
   "cell_type": "code",
   "execution_count": 102,
   "metadata": {},
   "outputs": [],
   "source": [
    "y = np.sort(-np.abs(coef[0]))[:20]"
   ]
  },
  {
   "cell_type": "code",
   "execution_count": 111,
   "metadata": {},
   "outputs": [
    {
     "data": {
      "text/plain": [
       "array([-2.70804732, -2.18541018, -1.81193416, -1.69225145, -1.68019354,\n",
       "       -1.58792896, -1.58503175, -1.56152644, -1.55966642, -1.55163205,\n",
       "       -1.55115831, -1.43975717, -1.41376037, -1.41084717, -1.37851632,\n",
       "       -1.3774855 , -1.37089999, -1.32931002, -1.29408072, -1.27330515])"
      ]
     },
     "execution_count": 111,
     "metadata": {},
     "output_type": "execute_result"
    }
   ],
   "source": [
    "y"
   ]
  },
  {
   "cell_type": "code",
   "execution_count": 110,
   "metadata": {},
   "outputs": [
    {
     "data": {
      "text/plain": [
       "array([-5.41609464, -4.37082036, -3.62386832, -3.3845029 , -3.36038708,\n",
       "       -3.17585793, -3.1700635 , -3.12305287, -3.11933284, -3.1032641 ,\n",
       "       -3.10231661, -2.87951434, -2.82752075, -2.82169435, -2.75703264,\n",
       "       -2.754971  , -2.74179998, -2.65862004, -2.58816143, -2.5466103 ])"
      ]
     },
     "execution_count": 110,
     "metadata": {},
     "output_type": "execute_result"
    }
   ],
   "source": [
    "y."
   ]
  },
  {
   "cell_type": "code",
   "execution_count": 108,
   "metadata": {},
   "outputs": [
    {
     "data": {
      "text/plain": [
       "array([3, 0, 6, 1, 4, 2, 5])"
      ]
     },
     "execution_count": 108,
     "metadata": {},
     "output_type": "execute_result"
    }
   ],
   "source": [
    "np.argsort(np.array([0,3,9,-1,6,10,2]))"
   ]
  },
  {
   "cell_type": "code",
   "execution_count": 103,
   "metadata": {},
   "outputs": [
    {
     "data": {
      "text/plain": [
       "['alt.atheism', 'soc.religion.christian', 'comp.graphics', 'sci.med']"
      ]
     },
     "execution_count": 103,
     "metadata": {},
     "output_type": "execute_result"
    }
   ],
   "source": [
    "categories"
   ]
  },
  {
   "cell_type": "code",
   "execution_count": 104,
   "metadata": {},
   "outputs": [],
   "source": [
    "ind = np.argsort(-np.abs(coef[0]))[:20]\n",
    "vocab = np.array(clf['vect'].get_feature_names())[ind]"
   ]
  },
  {
   "cell_type": "code",
   "execution_count": 87,
   "metadata": {},
   "outputs": [
    {
     "data": {
      "text/plain": [
       "array([-2.70804732, -2.18541018, -1.81193416, -1.69225145, -1.68019354,\n",
       "       -1.58792896, -1.58503175, -1.56152644, -1.55966642, -1.55163205,\n",
       "       -1.55115831, -1.43975717, -1.41376037, -1.41084717, -1.37851632,\n",
       "       -1.3774855 , -1.37089999, -1.32931002, -1.29408072, -1.27330515,\n",
       "       -1.26831852, -1.2634236 , -1.25005897, -1.24584907, -1.24286572,\n",
       "       -1.23564025, -1.22625729, -1.22284911, -1.21161705, -1.18842226,\n",
       "       -1.18593307, -1.1835615 , -1.17434839, -1.16539884, -1.15604927,\n",
       "       -1.15279616, -1.14955998, -1.13992071, -1.13395305, -1.1319165 ,\n",
       "       -1.1319165 , -1.128291  , -1.1185388 , -1.11791258, -1.1108728 ,\n",
       "       -1.10285721, -1.09537817, -1.092112  , -1.09058172, -1.08881158])"
      ]
     },
     "execution_count": 87,
     "metadata": {},
     "output_type": "execute_result"
    }
   ],
   "source": [
    "y"
   ]
  },
  {
   "cell_type": "code",
   "execution_count": 107,
   "metadata": {},
   "outputs": [
    {
     "name": "stderr",
     "output_type": "stream",
     "text": [
      "<ipython-input-107-13b52ca71d05>:14: UserWarning: FixedFormatter should only be used together with FixedLocator\n",
      "  ax.set_yticklabels(vocab, fontsize=18)\n"
     ]
    },
    {
     "data": {
      "image/png": "[encoded data removed]",
      "text/plain": [
       "<Figure size 720x432 with 1 Axes>"
      ]
     },
     "metadata": {
      "needs_background": "light"
     },
     "output_type": "display_data"
    }
   ],
   "source": [
    "\n",
    "fig, ax = plt.subplots(figsize=(10, 6))\n",
    "\n",
    "\n",
    "\n",
    "colors = np.array(['g']*len(y))\n",
    "mask = np.where(y < 0)[0]\n",
    "colors[mask] = 'r'\n",
    "\n",
    "\n",
    "fig.patch.set_visible(False)\n",
    "#ax.axis('off')\n",
    "pos = np.arange(len(y)) + .5\n",
    "ax.barh(pos, y, align='center', color=colors)\n",
    "ax.set_yticklabels(vocab, fontsize=18)\n",
    "ax.spines['top'].set_visible(False)\n",
    "ax.spines['right'].set_visible(False)\n",
    "ax.spines['bottom'].set_visible(False)\n",
    "ax.spines['left'].set_visible(False)\n",
    "#fig.savefig('exs.pdf')"
   ]
  },
  {
   "cell_type": "code",
   "execution_count": 47,
   "metadata": {},
   "outputs": [],
   "source": [
    "import seaborn as sns"
   ]
  },
  {
   "cell_type": "code",
   "execution_count": 49,
   "metadata": {},
   "outputs": [
    {
     "data": {
      "text/plain": [
       "<AxesSubplot:>"
      ]
     },
     "execution_count": 49,
     "metadata": {},
     "output_type": "execute_result"
    },
    {
     "data": {
      "image/png": "[encoded data removed]",
      "text/plain": [
       "<Figure size 432x288 with 1 Axes>"
      ]
     },
     "metadata": {
      "needs_background": "light"
     },
     "output_type": "display_data"
    }
   ],
   "source": [
    "sns.barplot(x=y, y=np.arange(len(y)))"
   ]
  },
  {
   "cell_type": "code",
   "execution_count": null,
   "metadata": {},
   "outputs": [],
   "source": []
  }
 ],
 "metadata": {
  "interpreter": {
   "hash": "f4b30558791f866c02073e75efdde05093df47ff5d16318fec82dd25ee9ebc7e"
  },
  "kernelspec": {
   "display_name": "Python 3.8.8 ('lijun')",
   "language": "python",
   "name": "python3"
  },
  "language_info": {
   "codemirror_mode": {
    "name": "ipython",
    "version": 3
   },
   "file_extension": ".py",
   "mimetype": "text/x-python",
   "name": "python",
   "nbconvert_exporter": "python",
   "pygments_lexer": "ipython3",
   "version": "3.8.8"
  },
  "orig_nbformat": 4
 },
 "nbformat": 4,
 "nbformat_minor": 2
}
