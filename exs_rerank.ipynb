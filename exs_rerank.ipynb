{
 "cells": [
  {
   "cell_type": "code",
   "execution_count": 1,
   "metadata": {},
   "outputs": [],
   "source": [
    "import json\n",
    "import numpy as np"
   ]
  },
  {
   "cell_type": "markdown",
   "metadata": {},
   "source": [
    "Step 1 Prepare dataset, we use a query and 10 docs retrieved by BM25 model as example. "
   ]
  },
  {
   "cell_type": "code",
   "execution_count": 2,
   "metadata": {},
   "outputs": [],
   "source": [
    "# load a pre-saved example file, including one query, top-10 hits by BM25, raw text documents.\n",
    "with open('datasets/dbpedia-entity/bm25_example.json', 'r')as f:\n",
    "    bm25_example = json.load(f)"
   ]
  },
  {
   "cell_type": "markdown",
   "metadata": {},
   "source": [
    "Step 2.1 Load a pretrained ranking model from Beir. "
   ]
  },
  {
   "cell_type": "code",
   "execution_count": 3,
   "metadata": {},
   "outputs": [
    {
     "name": "stderr",
     "output_type": "stream",
     "text": [
      "/home/lyu/anaconda3/envs/lijun/lib/python3.8/site-packages/torch/cuda/__init__.py:52: UserWarning: CUDA initialization: The NVIDIA driver on your system is too old (found version 9010). Please update your GPU driver by downloading and installing a new version from the URL: http://www.nvidia.com/Download/index.aspx Alternatively, go to: https://pytorch.org to install a PyTorch version that has been compiled with your version of the CUDA driver. (Triggered internally at  /opt/conda/conda-bld/pytorch_1603729009598/work/c10/cuda/CUDAFunctions.cpp:100.)\n",
      "  return torch._C._cuda_getDeviceCount() > 0\n"
     ]
    }
   ],
   "source": [
    "# Load a reranking model\n",
    "from beir.reranking.models import CrossEncoder\n",
    "model = 'cross-encoder/ms-marco-electra-base'\n",
    "reranker = CrossEncoder(model)"
   ]
  },
  {
   "cell_type": "markdown",
   "metadata": {},
   "source": [
    "Step 2.2, Prepare the input for reranking, be sure the ranking model has .predict(), take (query, doc) tuples as input."
   ]
  },
  {
   "cell_type": "code",
   "execution_count": 4,
   "metadata": {},
   "outputs": [
    {
     "data": {
      "application/vnd.jupyter.widget-view+json": {
       "model_id": "642782097ece47e782d3bcfcc836544f",
       "version_major": 2,
       "version_minor": 0
      },
      "text/plain": [
       "Batches:   0%|          | 0/1 [00:00<?, ?it/s]"
      ]
     },
     "metadata": {},
     "output_type": "display_data"
    },
    {
     "name": "stdout",
     "output_type": "stream",
     "text": [
      "[2.0086873e-05 2.4303485e-05 6.6422923e-05 5.3182488e-05 8.0362959e-05\n",
      " 2.3035003e-05 3.4169221e-05 1.6131043e-03 1.7985582e-03 4.3237404e-05]\n"
     ]
    }
   ],
   "source": [
    "# build query-doc pair for reranking model as input.\n",
    "query = bm25_example['query']\n",
    "sentence_pairs = []\n",
    "for doc_id, _ in bm25_example['hits']:\n",
    "    doc_text = (bm25_example['docs'][doc_id].get(\"title\", \"\") + \" \" + bm25_example['docs'][doc_id].get(\"text\", \"\")).strip()\n",
    "    sentence_pairs.append([query, doc_text])\n",
    "rerank_scores = reranker.predict(sentence_pairs, batch_size=10)\n",
    "print(rerank_scores)"
   ]
  },
  {
   "cell_type": "markdown",
   "metadata": {},
   "source": [
    "Step 3.1, Choose a doc to explain, make sure to recover the raw text of the doc."
   ]
  },
  {
   "cell_type": "code",
   "execution_count": 5,
   "metadata": {},
   "outputs": [
    {
     "name": "stdout",
     "output_type": "stream",
     "text": [
      "Cuisine A cuisine (/kwɪˈziːn/ kwi-ZEEN; from French [kɥizin], in turn from Latin coquere = \"to cook\") is a style of cooking characterized by distinctive ingredients, techniques and dishes, and usually associated with a specific culture or geographic region. A cuisine is primarily influenced by the ingredients that are available locally or through trade. Religious food laws, such as Hindu, Islamic and Jewish dietary laws, can also exercise a strong influence on cuisine.\n"
     ]
    }
   ],
   "source": [
    "# pick a document to explain, e.g., top-1 document.\n",
    "r = 0  # explain the top-ranked document.\n",
    "doc_ids = np.array([doc[0] for doc in bm25_example['hits']])\n",
    "docids_reranked = doc_ids[np.argsort(rerank_scores)[::-1]]  # descending order.\n",
    "doc_id = docids_reranked[r]\n",
    "doc_exp = (bm25_example['docs'][doc_id].get(\"title\", \"\") + \" \" + bm25_example['docs'][doc_id].get(\"text\", \"\")).strip()\n",
    "print(doc_exp)"
   ]
  },
  {
   "cell_type": "markdown",
   "metadata": {},
   "source": [
    "Step 3.2, Init EXS, with the ranking model, and a surrogate model to approximate the local prediction."
   ]
  },
  {
   "cell_type": "code",
   "execution_count": 7,
   "metadata": {},
   "outputs": [],
   "source": [
    "# Initiliaze EXS, use a svm model to explain...\n",
    "from exs import ExplainableSearch\n",
    "EXS = ExplainableSearch(reranker, 'svm')"
   ]
  },
  {
   "cell_type": "markdown",
   "metadata": {},
   "source": [
    "Step 3.3, Build the necessary input to EXS, and explain!"
   ]
  },
  {
   "cell_type": "code",
   "execution_count": 20,
   "metadata": {},
   "outputs": [
    {
     "name": "stdout",
     "output_type": "stream",
     "text": [
      "<dbpedia:Ghanaian_cuisine> 2.0086873e-05 \n",
      "\n",
      "<dbpedia:Seafood_dishes> 2.4303485e-05 \n",
      "\n",
      "<dbpedia:Dish_(food)> 6.642292e-05 \n",
      "\n",
      "<dbpedia:American_Chinese_cuisine> 5.3182488e-05 \n",
      "\n",
      "<dbpedia:List_of_Indian_dishes> 8.036296e-05 \n",
      "\n",
      "<dbpedia:Traditional_food> 2.3035003e-05 \n",
      "\n",
      "<dbpedia:Malaysian_Indian_cuisine> 3.416922e-05 \n",
      "\n",
      "<dbpedia:Cuisine_of_Odisha> 0.0016131043 \n",
      "\n",
      "<dbpedia:Cuisine> 0.0017985582 \n",
      "\n",
      "<dbpedia:Gabonese_cuisine> 4.3237404e-05 \n",
      "\n",
      "[('<dbpedia:Cuisine>', 0.0017985582)]\n"
     ]
    },
    {
     "name": "stderr",
     "output_type": "stream",
     "text": [
      "999it [00:00, 1359.20it/s]\n"
     ]
    },
    {
     "data": {
      "application/vnd.jupyter.widget-view+json": {
       "model_id": "b6b3d756a22148a486ecefaec4afd4d4",
       "version_major": 2,
       "version_minor": 0
      },
      "text/plain": [
       "Batches:   0%|          | 0/100 [00:00<?, ?it/s]"
      ]
     },
     "metadata": {},
     "output_type": "display_data"
    }
   ],
   "source": [
    "# build input for explaining function, use one query as example. \n",
    "exp_input = {}\n",
    "exp_input[query] = dict([(a, b) for a, b in zip(doc_ids, rerank_scores)])\n",
    "for key, value in exp_input[query].items():\n",
    "    print(key, value, '\\n')\n",
    "# explain the picked doc, use the 1-th ranked doc as the baseline, use topk-bin method.\n",
    "# the returned results include {query: (words, weights)}.\n",
    "exp_doc = {query: {'rank': r,'text':doc_exp}}\n",
    "results = EXS.explain(exp_input, exp_doc , 1, 'topk-bin')"
   ]
  },
  {
   "cell_type": "code",
   "execution_count": 21,
   "metadata": {},
   "outputs": [],
   "source": [
    "import matplotlib.pyplot as plt\n",
    "\n",
    "def visualize(vocabs:np.array, coef: np.array, show_top: int=10):\n",
    "        if len(coef.shape) > 1:  # binary, \n",
    "            coef = np.squeeze(coef)\n",
    "        sorted_coef = np.sort(coef)\n",
    "        sorted_idx = np.argsort(coef)\n",
    "        pos_y = sorted_coef[-show_top:]\n",
    "        neg_y = sorted_coef[:show_top]\n",
    "        pos_idx = sorted_idx[-show_top:]\n",
    "        neg_idx = sorted_idx[:show_top]\n",
    "\n",
    "        words = np.append(vocabs[pos_idx], vocabs[neg_idx])\n",
    "        y = np.append(pos_y, neg_y)\n",
    "        fig, ax = plt.subplots(figsize=(8, 10))\n",
    "        colors = ['green' if val >0 else 'red' for val in y]\n",
    "        pos = np.arange(len(y)) + .5\n",
    "        ax.barh(pos, y, align='center', color=colors)\n",
    "        ax.set_yticks(np.arange(len(y)))\n",
    "        ax.set_yticklabels(words, fontsize=18)\n",
    "        ax.spines['top'].set_visible(False)\n",
    "        ax.spines['right'].set_visible(False)\n",
    "        ax.spines['bottom'].set_visible(False)\n",
    "        ax.spines['left'].set_visible(False)\n",
    "        ax.set_xticks([])\n",
    "        #fig.savefig('exs.pdf')\n",
    "        fig.show()\n"
   ]
  },
  {
   "cell_type": "code",
   "execution_count": 22,
   "metadata": {},
   "outputs": [
    {
     "data": {
      "image/png": "[encoded data removed]",
      "text/plain": [
       "<Figure size 576x720 with 1 Axes>"
      ]
     },
     "metadata": {
      "needs_background": "light"
     },
     "output_type": "display_data"
    }
   ],
   "source": [
    "visualize(results[query][0], results[query][1])"
   ]
  },
  {
   "cell_type": "code",
   "execution_count": 18,
   "metadata": {},
   "outputs": [
    {
     "name": "stderr",
     "output_type": "stream",
     "text": [
      "999it [00:00, 1318.11it/s]\n"
     ]
    },
    {
     "data": {
      "application/vnd.jupyter.widget-view+json": {
       "model_id": "f0350c137f0f4a8da59dde0df727ab8c",
       "version_major": 2,
       "version_minor": 0
      },
      "text/plain": [
       "Batches:   0%|          | 0/100 [00:00<?, ?it/s]"
      ]
     },
     "metadata": {},
     "output_type": "display_data"
    }
   ],
   "source": [
    "# try logistic regression\n",
    "EXS.exp_model = 'lr'\n",
    "# why is 0-th doc higher than 1-th doc?, label generation methods include ['topk-bin', 'score', 'rank']\n",
    "results_lr = EXS.explain(exp_input, {query: doc_exp}, 1, 'topk-bin')"
   ]
  },
  {
   "cell_type": "code",
   "execution_count": 19,
   "metadata": {},
   "outputs": [
    {
     "data": {
      "image/png": "[encoded data removed]",
      "text/plain": [
       "<Figure size 576x720 with 1 Axes>"
      ]
     },
     "metadata": {
      "needs_background": "light"
     },
     "output_type": "display_data"
    }
   ],
   "source": [
    "visualize(results_lr[query][0], results_lr[query][1])"
   ]
  },
  {
   "cell_type": "code",
   "execution_count": null,
   "metadata": {},
   "outputs": [],
   "source": []
  }
 ],
 "metadata": {
  "interpreter": {
   "hash": "f4b30558791f866c02073e75efdde05093df47ff5d16318fec82dd25ee9ebc7e"
  },
  "kernelspec": {
   "display_name": "Python 3.8.8 ('lijun')",
   "language": "python",
   "name": "python3"
  },
  "language_info": {
   "codemirror_mode": {
    "name": "ipython",
    "version": 3
   },
   "file_extension": ".py",
   "mimetype": "text/x-python",
   "name": "python",
   "nbconvert_exporter": "python",
   "pygments_lexer": "ipython3",
   "version": "3.8.8"
  },
  "orig_nbformat": 4
 },
 "nbformat": 4,
 "nbformat_minor": 2
}
