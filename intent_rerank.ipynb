{
 "cells": [
  {
   "cell_type": "code",
   "execution_count": null,
   "metadata": {},
   "outputs": [],
   "source": [
    "import json\n",
    "import numpy as np\n",
    "from intent_exs import IntentEXS\n",
    "from pyserini.search.lucene import LuceneSearcher  \n",
    "index_path = 'datasets/dbpedia-entity/pyserini/dbpedia-entity-small.index'\n",
    "searcher = LuceneSearcher(index_path)   # load a searcher from pre-computed index."
   ]
  },
  {
   "cell_type": "code",
   "execution_count": 2,
   "metadata": {},
   "outputs": [
    {
     "name": "stdout",
     "output_type": "stream",
     "text": [
      " 1 <dbpedia:Dish_(food)> 8.47820\n",
      " 2 <dbpedia:National_dish> 7.26490\n",
      " 3 <dbpedia:2007_Vietnam_food_scare> 7.10600\n",
      " 4 <dbpedia:Side_dish> 7.02890\n",
      " 5 <dbpedia:Chifle> 6.98190\n",
      " 6 <dbpedia:Food_presentation> 6.96550\n",
      " 7 <dbpedia:Street_food_of_Chennai> 6.77350\n",
      " 8 <dbpedia:Ragda_pattice> 6.73670\n",
      " 9 <dbpedia:Khichdi> 6.63490\n",
      "10 <dbpedia:Khmer_(food)> 6.49920\n"
     ]
    }
   ],
   "source": [
    "query = 'Szechwan dish food cuisine'\n",
    "hits = searcher.search(query)\n",
    "# Print the first 10 hits:\n",
    "for i in range(0, 10):\n",
    "    print(f'{i+1:2} {hits[i].docid:15} {hits[i].score:.5f}')"
   ]
  },
  {
   "cell_type": "code",
   "execution_count": 3,
   "metadata": {},
   "outputs": [],
   "source": [
    "# extract the retrieved doc ids and doc contents.\n",
    "doc_ids = [hit.docid for hit in hits]\n",
    "docs = dict([(hit.docid, json.loads(searcher.doc(hit.docid).raw())['contents']) for hit in hits])"
   ]
  },
  {
   "cell_type": "code",
   "execution_count": 4,
   "metadata": {},
   "outputs": [],
   "source": [
    "# Load a reranking model\n",
    "from beir.reranking.models import CrossEncoder\n",
    "model = 'cross-encoder/ms-marco-electra-base'\n",
    "reranker = CrossEncoder(model)"
   ]
  },
  {
   "cell_type": "code",
   "execution_count": null,
   "metadata": {},
   "outputs": [],
   "source": [
    "# build query-doc pair for reranking model as input.\n",
    "sentence_pairs = []\n",
    "for doc_id in doc_ids:\n",
    "    doc_text = docs[doc_id]\n",
    "    sentence_pairs.append([query, doc_text])\n",
    "rerank_scores = reranker.predict(sentence_pairs, batch_size=10)"
   ]
  },
  {
   "cell_type": "code",
   "execution_count": 17,
   "metadata": {},
   "outputs": [
    {
     "name": "stdout",
     "output_type": "stream",
     "text": [
      "<dbpedia:Khichdi>\n",
      "<dbpedia:Ragda_pattice>\n",
      "<dbpedia:Dish_(food)>\n",
      "<dbpedia:National_dish>\n",
      "<dbpedia:Street_food_of_Chennai>\n",
      "<dbpedia:Khmer_(food)>\n",
      "<dbpedia:Food_presentation>\n",
      "<dbpedia:Chifle>\n",
      "<dbpedia:Side_dish>\n",
      "<dbpedia:2007_Vietnam_food_scare>\n"
     ]
    }
   ],
   "source": [
    "# show reranked docs.\n",
    "reranked_docids = np.array(doc_ids)[np.argsort(rerank_scores)[::-1]]\n",
    "for doc_id in reranked_docids:\n",
    "    print(doc_id)"
   ]
  },
  {
   "cell_type": "code",
   "execution_count": 6,
   "metadata": {},
   "outputs": [],
   "source": [
    "# build corpus for IntentEXS explain function\n",
    "corpus = {'query': query,\n",
    "        'scores': dict([(doc_id, score) for doc_id, score in zip(doc_ids, rerank_scores)]),\n",
    "        'docs': docs\n",
    "}\n",
    "params = {'top_idf': 10, 'topk': 5, 'max_pair': 100, 'max_intent': 10, 'style': 'random'}"
   ]
  },
  {
   "cell_type": "code",
   "execution_count": 7,
   "metadata": {},
   "outputs": [],
   "source": [
    "# Init the IntentEXS object.\n",
    "Intent = IntentEXS(reranker, index_path, 'bm25')"
   ]
  },
  {
   "cell_type": "code",
   "execution_count": null,
   "metadata": {},
   "outputs": [],
   "source": [
    "expansion = Intent.explain(corpus, params)"
   ]
  },
  {
   "cell_type": "code",
   "execution_count": 9,
   "metadata": {},
   "outputs": [
    {
     "data": {
      "text/plain": [
       "['dish', 'indian', 'many', 'variety', 'bhel', 'traditional', 'rice']"
      ]
     },
     "execution_count": 9,
     "metadata": {},
     "output_type": "execute_result"
    }
   ],
   "source": [
    "expansion"
   ]
  },
  {
   "cell_type": "code",
   "execution_count": null,
   "metadata": {},
   "outputs": [],
   "source": []
  }
 ],
 "metadata": {
  "interpreter": {
   "hash": "f4b30558791f866c02073e75efdde05093df47ff5d16318fec82dd25ee9ebc7e"
  },
  "kernelspec": {
   "display_name": "Python 3.8.8 ('lijun')",
   "language": "python",
   "name": "python3"
  },
  "language_info": {
   "codemirror_mode": {
    "name": "ipython",
    "version": 3
   },
   "file_extension": ".py",
   "mimetype": "text/x-python",
   "name": "python",
   "nbconvert_exporter": "python",
   "pygments_lexer": "ipython3",
   "version": "3.8.8"
  },
  "orig_nbformat": 4
 },
 "nbformat": 4,
 "nbformat_minor": 2
}
